{
  "nbformat": 4,
  "nbformat_minor": 0,
  "metadata": {
    "colab": {
      "name": "Final_aimlproject.ipynb",
      "provenance": [],
      "collapsed_sections": []
    },
    "kernelspec": {
      "display_name": "Python 3",
      "language": "python",
      "name": "python3"
    },
    "language_info": {
      "codemirror_mode": {
        "name": "ipython",
        "version": 3
      },
      "file_extension": ".py",
      "mimetype": "text/x-python",
      "name": "python",
      "nbconvert_exporter": "python",
      "pygments_lexer": "ipython3",
      "version": "3.7.3"
    }
  },
  "cells": [
    {
      "cell_type": "code",
      "metadata": {
        "colab": {
          "base_uri": "https://localhost:8080/"
        },
        "id": "6v_rNS9Ex61v",
        "outputId": "1ac746f5-318c-419f-baa3-daeff1f9fd08"
      },
      "source": [
        "from google.colab import drive\n",
        "drive.mount('/content/drive')"
      ],
      "execution_count": null,
      "outputs": [
        {
          "output_type": "stream",
          "name": "stdout",
          "text": [
            "Drive already mounted at /content/drive; to attempt to forcibly remount, call drive.mount(\"/content/drive\", force_remount=True).\n"
          ]
        }
      ]
    },
    {
      "cell_type": "code",
      "metadata": {
        "colab": {
          "base_uri": "https://localhost:8080/"
        },
        "id": "g6fbmKlGE-c2",
        "outputId": "3d5fd3f6-7448-44df-ceb3-b20899e06511"
      },
      "source": [
        "import cv2,os\n",
        "data_path=\"/content/drive/MyDrive/Colab Notebooks/dataset\"\n",
        "categories=os.listdir(data_path)\n",
        "labels=[i for i in range(len(categories))]\n",
        "\n",
        "label_dict=dict(zip(categories,labels)) \n",
        "\n",
        "print(label_dict)\n",
        "print(categories)\n",
        "print(labels)"
      ],
      "execution_count": null,
      "outputs": [
        {
          "output_type": "stream",
          "name": "stdout",
          "text": [
            "{'without mask': 0, 'with mask': 1}\n",
            "['without mask', 'with mask']\n",
            "[0, 1]\n"
          ]
        }
      ]
    },
    {
      "cell_type": "code",
      "metadata": {
        "colab": {
          "base_uri": "https://localhost:8080/"
        },
        "id": "05w5j12VFA_y",
        "outputId": "5adb9071-f4e1-4073-a27b-c4d033137943"
      },
      "source": [
        "img_size=100\n",
        "data=[]\n",
        "target=[]\n",
        "\n",
        "\n",
        "for category in categories:\n",
        "    folder_path=os.path.join(data_path,category)\n",
        "    img_names=os.listdir(folder_path)\n",
        "        \n",
        "    for img_name in img_names:\n",
        "        img_path=os.path.join(folder_path,img_name)\n",
        "        img=cv2.imread(img_path)\n",
        "\n",
        "        try:\n",
        "            gray=cv2.cvtColor(img,cv2.COLOR_BGR2GRAY)           \n",
        "            resized=cv2.resize(gray,(img_size,img_size))\n",
        "            \n",
        "            data.append(resized)\n",
        "            target.append(label_dict[category])\n",
        "\n",
        "        except Exception as e:\n",
        "            print('Exception:',e)"
      ],
      "execution_count": null,
      "outputs": [
        {
          "output_type": "stream",
          "name": "stdout",
          "text": [
            "Exception: OpenCV(4.1.2) /io/opencv/modules/imgproc/src/color.cpp:182: error: (-215:Assertion failed) !_src.empty() in function 'cvtColor'\n",
            "\n",
            "Exception: OpenCV(4.1.2) /io/opencv/modules/imgproc/src/color.cpp:182: error: (-215:Assertion failed) !_src.empty() in function 'cvtColor'\n",
            "\n"
          ]
        }
      ]
    },
    {
      "cell_type": "code",
      "metadata": {
        "id": "QS1tVgNOI52Q"
      },
      "source": [
        "import numpy as np\n",
        "\n",
        "data=np.array(data)/255.0                  \n",
        "data=np.reshape(data,(data.shape[0],img_size,img_size,1))\n",
        "target=np.array(target)\n",
        "\n",
        "from keras.utils import np_utils\n",
        "new_target=np_utils.to_categorical(target)"
      ],
      "execution_count": null,
      "outputs": []
    },
    {
      "cell_type": "code",
      "metadata": {
        "colab": {
          "base_uri": "https://localhost:8080/"
        },
        "id": "zo47cSmV2qV_",
        "outputId": "119c572e-bab7-4a6c-85cd-76679b9757f2"
      },
      "source": [
        "data[0].shape"
      ],
      "execution_count": null,
      "outputs": [
        {
          "output_type": "execute_result",
          "data": {
            "text/plain": [
              "(100, 100, 1)"
            ]
          },
          "metadata": {},
          "execution_count": 28
        }
      ]
    },
    {
      "cell_type": "code",
      "metadata": {
        "id": "H5LImMqtI_4v"
      },
      "source": [
        "np.save('data',data)\n",
        "np.save('target',new_target)"
      ],
      "execution_count": null,
      "outputs": []
    },
    {
      "cell_type": "code",
      "metadata": {
        "id": "bE8qj7SEJD1A"
      },
      "source": [
        "import numpy as np\n",
        "\n",
        "data=np.load('data.npy')\n",
        "target=np.load('target.npy')\n"
      ],
      "execution_count": null,
      "outputs": []
    },
    {
      "cell_type": "code",
      "metadata": {
        "id": "xJAu4gL7JJuE"
      },
      "source": [
        "from keras.models import Sequential\n",
        "from keras.layers import Dense,Activation,Flatten,Dropout\n",
        "from keras.layers import Conv2D,MaxPooling2D\n",
        "from keras.callbacks import ModelCheckpoint\n",
        "\n",
        "model=Sequential()\n",
        "\n",
        "model.add(Conv2D(200,(3,3),input_shape=data.shape[1:]))\n",
        "model.add(Activation('relu'))\n",
        "model.add(MaxPooling2D(pool_size=(2,2)))\n",
        "\n",
        "model.add(Conv2D(100,(3,3)))\n",
        "model.add(Activation('relu'))\n",
        "model.add(MaxPooling2D(pool_size=(2,2)))\n",
        "\n",
        "model.add(Flatten())\n",
        "model.add(Dropout(0.5))\n",
        "model.add(Dense(50,activation='relu'))\n",
        "model.add(Dense(2,activation='sigmoid'))\n",
        "\n",
        "model.compile(loss='binary_crossentropy',optimizer='adam',metrics=['accuracy'])"
      ],
      "execution_count": null,
      "outputs": []
    },
    {
      "cell_type": "code",
      "metadata": {
        "id": "2lBAcaLGJM2B"
      },
      "source": [
        "from sklearn.model_selection import train_test_split\n",
        "train_data,test_data,train_target,test_target=train_test_split(data,target,test_size=0.1)"
      ],
      "execution_count": null,
      "outputs": []
    },
    {
      "cell_type": "code",
      "metadata": {
        "colab": {
          "base_uri": "https://localhost:8080/"
        },
        "id": "w_AmlApnJPZ5",
        "scrolled": false,
        "outputId": "5101519f-ad56-4bad-879a-758ce0e26192"
      },
      "source": [
        "checkpoint = ModelCheckpoint('model-{epoch:03d}.model',monitor='val_loss',verbose=0,save_best_only=True,mode='auto')\n",
        "history=model.fit(train_data,train_target,epochs=20,callbacks=[checkpoint],validation_split=0.2)"
      ],
      "execution_count": null,
      "outputs": [
        {
          "output_type": "stream",
          "name": "stdout",
          "text": [
            "Epoch 1/20\n",
            "8/8 [==============================] - ETA: 0s - loss: 0.7452 - accuracy: 0.4762INFO:tensorflow:Assets written to: model-001.model/assets\n",
            "8/8 [==============================] - 20s 2s/step - loss: 0.7452 - accuracy: 0.4762 - val_loss: 0.6926 - val_accuracy: 0.6032\n",
            "Epoch 2/20\n",
            "8/8 [==============================] - 18s 2s/step - loss: 0.6933 - accuracy: 0.5238 - val_loss: 0.7336 - val_accuracy: 0.4127\n",
            "Epoch 3/20\n",
            "8/8 [==============================] - ETA: 0s - loss: 0.6872 - accuracy: 0.5556INFO:tensorflow:Assets written to: model-003.model/assets\n",
            "8/8 [==============================] - 19s 2s/step - loss: 0.6872 - accuracy: 0.5556 - val_loss: 0.6630 - val_accuracy: 0.5873\n",
            "Epoch 4/20\n",
            "8/8 [==============================] - ETA: 0s - loss: 0.6741 - accuracy: 0.5794INFO:tensorflow:Assets written to: model-004.model/assets\n",
            "8/8 [==============================] - 19s 2s/step - loss: 0.6741 - accuracy: 0.5794 - val_loss: 0.6196 - val_accuracy: 0.7778\n",
            "Epoch 5/20\n",
            "8/8 [==============================] - ETA: 0s - loss: 0.5616 - accuracy: 0.7183INFO:tensorflow:Assets written to: model-005.model/assets\n",
            "8/8 [==============================] - 20s 2s/step - loss: 0.5616 - accuracy: 0.7183 - val_loss: 0.5156 - val_accuracy: 0.7460\n",
            "Epoch 6/20\n",
            "8/8 [==============================] - 18s 2s/step - loss: 0.4978 - accuracy: 0.7579 - val_loss: 0.6809 - val_accuracy: 0.6667\n",
            "Epoch 7/20\n",
            "8/8 [==============================] - ETA: 0s - loss: 0.4292 - accuracy: 0.8016INFO:tensorflow:Assets written to: model-007.model/assets\n",
            "8/8 [==============================] - 20s 2s/step - loss: 0.4292 - accuracy: 0.8016 - val_loss: 0.4232 - val_accuracy: 0.8254\n",
            "Epoch 8/20\n",
            "8/8 [==============================] - ETA: 0s - loss: 0.3498 - accuracy: 0.8413INFO:tensorflow:Assets written to: model-008.model/assets\n",
            "8/8 [==============================] - 19s 2s/step - loss: 0.3498 - accuracy: 0.8413 - val_loss: 0.3981 - val_accuracy: 0.8095\n",
            "Epoch 9/20\n",
            "8/8 [==============================] - 18s 2s/step - loss: 0.2899 - accuracy: 0.8968 - val_loss: 0.3988 - val_accuracy: 0.8254\n",
            "Epoch 10/20\n",
            "8/8 [==============================] - 18s 2s/step - loss: 0.2489 - accuracy: 0.8968 - val_loss: 0.3994 - val_accuracy: 0.8413\n",
            "Epoch 11/20\n",
            "8/8 [==============================] - ETA: 0s - loss: 0.2527 - accuracy: 0.8889INFO:tensorflow:Assets written to: model-011.model/assets\n",
            "8/8 [==============================] - 19s 2s/step - loss: 0.2527 - accuracy: 0.8889 - val_loss: 0.3826 - val_accuracy: 0.8730\n",
            "Epoch 12/20\n",
            "8/8 [==============================] - ETA: 0s - loss: 0.2069 - accuracy: 0.9167INFO:tensorflow:Assets written to: model-012.model/assets\n",
            "8/8 [==============================] - 20s 3s/step - loss: 0.2069 - accuracy: 0.9167 - val_loss: 0.3277 - val_accuracy: 0.8889\n",
            "Epoch 13/20\n",
            "8/8 [==============================] - 18s 2s/step - loss: 0.1773 - accuracy: 0.9325 - val_loss: 0.3320 - val_accuracy: 0.7937\n",
            "Epoch 14/20\n",
            "8/8 [==============================] - 18s 2s/step - loss: 0.1175 - accuracy: 0.9722 - val_loss: 0.3772 - val_accuracy: 0.8254\n",
            "Epoch 15/20\n",
            "8/8 [==============================] - ETA: 0s - loss: 0.1325 - accuracy: 0.9524INFO:tensorflow:Assets written to: model-015.model/assets\n",
            "8/8 [==============================] - 19s 2s/step - loss: 0.1325 - accuracy: 0.9524 - val_loss: 0.3203 - val_accuracy: 0.8730\n",
            "Epoch 16/20\n",
            "8/8 [==============================] - 18s 2s/step - loss: 0.1120 - accuracy: 0.9603 - val_loss: 0.3736 - val_accuracy: 0.9048\n",
            "Epoch 17/20\n",
            "8/8 [==============================] - 18s 2s/step - loss: 0.1168 - accuracy: 0.9603 - val_loss: 0.3242 - val_accuracy: 0.8571\n",
            "Epoch 18/20\n",
            "8/8 [==============================] - 18s 2s/step - loss: 0.0963 - accuracy: 0.9683 - val_loss: 0.4392 - val_accuracy: 0.8095\n",
            "Epoch 19/20\n",
            "8/8 [==============================] - ETA: 0s - loss: 0.1314 - accuracy: 0.9603INFO:tensorflow:Assets written to: model-019.model/assets\n",
            "8/8 [==============================] - 19s 2s/step - loss: 0.1314 - accuracy: 0.9603 - val_loss: 0.2998 - val_accuracy: 0.8413\n",
            "Epoch 20/20\n",
            "8/8 [==============================] - ETA: 0s - loss: 0.1060 - accuracy: 0.9762INFO:tensorflow:Assets written to: model-020.model/assets\n",
            "8/8 [==============================] - 19s 2s/step - loss: 0.1060 - accuracy: 0.9762 - val_loss: 0.2851 - val_accuracy: 0.8889\n"
          ]
        }
      ]
    },
    {
      "cell_type": "code",
      "metadata": {
        "colab": {
          "base_uri": "https://localhost:8080/",
          "height": 279
        },
        "id": "xQyKJVF5JR06",
        "outputId": "79e59818-96e1-4361-c618-daa7110e6b30"
      },
      "source": [
        "#Original epochs were 20\n",
        "from matplotlib import pyplot as plt\n",
        "plt.plot(history.history['loss'],'r',label='training loss')\n",
        "plt.plot(history.history['val_loss'],label='validation loss')\n",
        "plt.xlabel('# epochs')\n",
        "plt.ylabel('loss')\n",
        "plt.legend()\n",
        "plt.show()"
      ],
      "execution_count": null,
      "outputs": [
        {
          "output_type": "display_data",
          "data": {
            "image/png": "[encoded data removed]",
            "text/plain": [
              "<Figure size 432x288 with 1 Axes>"
            ]
          },
          "metadata": {
            "needs_background": "light"
          }
        }
      ]
    },
    {
      "cell_type": "code",
      "metadata": {
        "colab": {
          "base_uri": "https://localhost:8080/",
          "height": 282
        },
        "id": "R7V1pR__Jdze",
        "outputId": "4f2e8524-16e1-4f80-fb5a-0608393cae3b"
      },
      "source": [
        "plt.plot(history.history['accuracy'],'r',label='training accuracy')\n",
        "plt.plot(history.history['val_accuracy'],label='validation accuracy')\n",
        "plt.xlabel('# epochs')\n",
        "plt.ylabel('loss')\n",
        "plt.legend()\n",
        "plt.show()"
      ],
      "execution_count": null,
      "outputs": [
        {
          "output_type": "display_data",
          "data": {
            "image/png": "[encoded data removed]",
            "text/plain": [
              "<Figure size 432x288 with 1 Axes>"
            ]
          },
          "metadata": {
            "needs_background": "light"
          }
        }
      ]
    },
    {
      "cell_type": "code",
      "metadata": {
        "colab": {
          "base_uri": "https://localhost:8080/"
        },
        "id": "us3s-7pfJgYx",
        "scrolled": true,
        "outputId": "c6661bf1-fdbb-454d-ae44-7539dbd729f5"
      },
      "source": [
        "#Testing accuracy\n",
        "print(model.evaluate(test_data,test_target))"
      ],
      "execution_count": null,
      "outputs": [
        {
          "output_type": "stream",
          "name": "stdout",
          "text": [
            "2/2 [==============================] - 1s 62ms/step - loss: 0.6342 - accuracy: 0.7714\n",
            "[0.634242057800293, 0.7714285850524902]\n"
          ]
        }
      ]
    },
    {
      "cell_type": "code",
      "metadata": {
        "id": "AW_4HaP4x0du"
      },
      "source": [
        "from sklearn.metrics import classification_report"
      ],
      "execution_count": null,
      "outputs": []
    },
    {
      "cell_type": "code",
      "metadata": {
        "colab": {
          "base_uri": "https://localhost:8080/"
        },
        "id": "ff4CTau2x0dv",
        "outputId": "943aa88c-943c-403b-973e-724e8d3bcc61"
      },
      "source": [
        "# training\n",
        "print(classification_report(train_target,model.predict(train_data).round()))"
      ],
      "execution_count": null,
      "outputs": [
        {
          "output_type": "stream",
          "name": "stdout",
          "text": [
            "              precision    recall  f1-score   support\n",
            "\n",
            "           0       0.93      0.99      0.96       157\n",
            "           1       0.99      0.92      0.96       158\n",
            "\n",
            "   micro avg       0.96      0.96      0.96       315\n",
            "   macro avg       0.96      0.96      0.96       315\n",
            "weighted avg       0.96      0.96      0.96       315\n",
            " samples avg       0.96      0.96      0.96       315\n",
            "\n"
          ]
        },
        {
          "output_type": "stream",
          "name": "stderr",
          "text": [
            "/usr/local/lib/python3.7/dist-packages/sklearn/metrics/_classification.py:1308: UndefinedMetricWarning: Precision and F-score are ill-defined and being set to 0.0 in samples with no predicted labels. Use `zero_division` parameter to control this behavior.\n",
            "  _warn_prf(average, modifier, msg_start, len(result))\n"
          ]
        }
      ]
    },
    {
      "cell_type": "code",
      "metadata": {
        "colab": {
          "base_uri": "https://localhost:8080/"
        },
        "id": "zKwTBeSwx0dy",
        "outputId": "9034b964-2041-400e-be8d-367cb6e8b627"
      },
      "source": [
        "#For testing data\n",
        "print(classification_report(test_target,model.predict(test_data).round()))"
      ],
      "execution_count": null,
      "outputs": [
        {
          "output_type": "stream",
          "name": "stdout",
          "text": [
            "              precision    recall  f1-score   support\n",
            "\n",
            "           0       0.74      0.82      0.78        17\n",
            "           1       0.81      0.72      0.76        18\n",
            "\n",
            "   micro avg       0.77      0.77      0.77        35\n",
            "   macro avg       0.77      0.77      0.77        35\n",
            "weighted avg       0.78      0.77      0.77        35\n",
            " samples avg       0.77      0.77      0.77        35\n",
            "\n"
          ]
        }
      ]
    },
    {
      "cell_type": "code",
      "metadata": {
        "id": "LBfEWblOwsQf"
      },
      "source": [
        "# Testing"
      ],
      "execution_count": null,
      "outputs": []
    },
    {
      "cell_type": "code",
      "metadata": {
        "colab": {
          "base_uri": "https://localhost:8080/"
        },
        "id": "YwfexiIk8T1m",
        "outputId": "7a2923f6-3c93-4595-e7d7-dc9fe2fe16ca"
      },
      "source": [
        "pip install cv"
      ],
      "execution_count": null,
      "outputs": [
        {
          "output_type": "stream",
          "name": "stdout",
          "text": [
            "Requirement already satisfied: cv in /usr/local/lib/python3.7/dist-packages (1.0.0)\n"
          ]
        }
      ]
    },
    {
      "cell_type": "code",
      "metadata": {
        "id": "90daFMWC8XXS"
      },
      "source": [
        "import cv2\n",
        "import numpy as np\n",
        "import matplotlib.pyplot as plt"
      ],
      "execution_count": null,
      "outputs": []
    },
    {
      "cell_type": "code",
      "metadata": {
        "id": "yVISeaxOwsUH"
      },
      "source": [
        "frame = cv2.imread(\"/content/2.jpg\")"
      ],
      "execution_count": null,
      "outputs": []
    },
    {
      "cell_type": "code",
      "metadata": {
        "id": "kd0GLXZtwsaA"
      },
      "source": [
        "gray=cv2.cvtColor(frame,cv2.COLOR_BGR2GRAY)    \n",
        "frame=cv2.resize(gray,(img_size,img_size))"
      ],
      "execution_count": null,
      "outputs": []
    },
    {
      "cell_type": "code",
      "metadata": {
        "id": "3nqV_bDO84w1"
      },
      "source": [
        "# final_image = cv2.resize(frame, (100,100))\n",
        "final_image = np.expand_dims(frame,axis = 0)\n",
        "final_image = final_image/225.0"
      ],
      "execution_count": null,
      "outputs": []
    },
    {
      "cell_type": "code",
      "metadata": {
        "colab": {
          "base_uri": "https://localhost:8080/"
        },
        "id": "6dv0pKwq84q7",
        "outputId": "55baeb1b-8d15-4d06-a9d6-80eae6dd339e"
      },
      "source": [
        "frame.shape"
      ],
      "execution_count": null,
      "outputs": [
        {
          "output_type": "execute_result",
          "data": {
            "text/plain": [
              "(100, 100)"
            ]
          },
          "metadata": {},
          "execution_count": 95
        }
      ]
    },
    {
      "cell_type": "code",
      "metadata": {
        "colab": {
          "base_uri": "https://localhost:8080/",
          "height": 286
        },
        "id": "uNYpw6l1wsXW",
        "outputId": "233a7b56-c462-444a-e612-b7d9b40ab1c4"
      },
      "source": [
        "plt.imshow(cv2.cvtColor(frame, cv2.COLOR_BGR2RGB))"
      ],
      "execution_count": null,
      "outputs": [
        {
          "output_type": "execute_result",
          "data": {
            "text/plain": [
              "<matplotlib.image.AxesImage at 0x7f13db3f6990>"
            ]
          },
          "metadata": {},
          "execution_count": 96
        },
        {
          "output_type": "display_data",
          "data": {
            "image/png": "[encoded data removed]",
            "text/plain": [
              "<Figure size 432x288 with 1 Axes>"
            ]
          },
          "metadata": {
            "needs_background": "light"
          }
        }
      ]
    },
    {
      "cell_type": "code",
      "metadata": {
        "id": "C_1tDEV7wscu"
      },
      "source": [
        "# Predictions = model.predict(final_image)\n",
        "# Predictions"
      ],
      "execution_count": null,
      "outputs": []
    },
    {
      "cell_type": "code",
      "metadata": {
        "colab": {
          "base_uri": "https://localhost:8080/"
        },
        "id": "_0B7wVo_EB6k",
        "outputId": "38121d13-8a82-4484-f892-7c4bd5a95f26"
      },
      "source": [
        "predictions = np.squeeze(model.predict(final_image) >= 0.5).astype(np.int)\n",
        "predictions"
      ],
      "execution_count": null,
      "outputs": [
        {
          "output_type": "execute_result",
          "data": {
            "text/plain": [
              "array([1, 0])"
            ]
          },
          "metadata": {},
          "execution_count": 98
        }
      ]
    },
    {
      "cell_type": "code",
      "metadata": {
        "colab": {
          "base_uri": "https://localhost:8080/",
          "height": 264
        },
        "id": "tikou1nbwsfg",
        "outputId": "728fe979-7605-4839-d533-6160f04411fa"
      },
      "source": [
        "plt.imshow(cv2.cvtColor(frame, cv2.COLOR_BGR2RGB))\n",
        "plt.axis('off')\n",
        "plt.title((\"NO MASK\" if predictions[0] == 1 else \"MASK\"))\n",
        "plt.show()"
      ],
      "execution_count": null,
      "outputs": [
        {
          "output_type": "display_data",
          "data": {
            "image/png": "[encoded data removed]",
            "text/plain": [
              "<Figure size 432x288 with 1 Axes>"
            ]
          },
          "metadata": {
            "needs_background": "light"
          }
        }
      ]
    },
    {
      "cell_type": "code",
      "metadata": {
        "id": "s1E6l_iNO6gj"
      },
      "source": [
        ""
      ],
      "execution_count": null,
      "outputs": []
    }
  ]
}